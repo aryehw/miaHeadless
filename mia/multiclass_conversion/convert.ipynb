{
 "cells": [
  {
   "attachments": {},
   "cell_type": "markdown",
   "metadata": {},
   "source": [
    "Code that converts label imaes where each pixel's value represents its class\n",
    "to countours stored in npz files. \n",
    "Code supplied by Nils Koerber (author 0f mianayzer)\n",
    "Modified by Aryeh Weiss\n",
    "Last modified: 1 May 2023"
   ]
  },
  {
   "cell_type": "code",
   "execution_count": 1,
   "metadata": {},
   "outputs": [],
   "source": [
    "%load_ext autoreload\n",
    "%autoreload 2"
   ]
  },
  {
   "cell_type": "code",
   "execution_count": 2,
   "metadata": {},
   "outputs": [
    {
     "name": "stdout",
     "output_type": "stream",
     "text": [
      "/home/amw/git/mia/multiclass_conversion\n"
     ]
    }
   ],
   "source": [
    "import os\n",
    "print(os.getcwd())\n",
    "import sys\n",
    "sys.path.insert(0, os.path.abspath('/home/amw/git/mia/multiclass_conversion/'))\n",
    "import glob\n",
    "import Contour\n",
    "import cv2\n",
    "import numpy as np\n"
   ]
  },
  {
   "cell_type": "code",
   "execution_count": null,
   "metadata": {
    "scrolled": true
   },
   "outputs": [],
   "source": [
    "# folder with input masks\n",
    "folder = '/home/amw/Downloads/trimaps/output/'\n",
    "files = glob.glob(folder + '*.png')\n",
    "\n",
    "for f in files:\n",
    "    image = cv2.imread(f, cv2.IMREAD_UNCHANGED)\n",
    "    cnt = Contour.extractContoursFromLabel(image)\n",
    "\n",
    "    label = np.zeros(image.shape, dtype=np.uint8)\n",
    "    label = Contour.drawContoursToLabel(label,cnt) \n",
    "\n",
    "    cnt = Contour.extractContoursFromLabel(label)\n",
    "\n",
    "    # here you should make sure that the label of an image has the same name as the image (plus .npz extension)\n",
    "    f_out = f.replace('png', 'npz')\n",
    "    print(f_out)\n",
    "    \n",
    "    Contour.saveContours(cnt,f_out)"
   ]
  },
  {
   "cell_type": "code",
   "execution_count": null,
   "metadata": {},
   "outputs": [],
   "source": []
  },
  {
   "cell_type": "code",
   "execution_count": null,
   "metadata": {},
   "outputs": [],
   "source": []
  },
  {
   "cell_type": "code",
   "execution_count": null,
   "metadata": {},
   "outputs": [],
   "source": []
  },
  {
   "cell_type": "code",
   "execution_count": null,
   "metadata": {},
   "outputs": [],
   "source": []
  }
 ],
 "metadata": {
  "kernelspec": {
   "display_name": "Python 3 (ipykernel)",
   "language": "python",
   "name": "python3"
  },
  "language_info": {
   "codemirror_mode": {
    "name": "ipython",
    "version": 3
   },
   "file_extension": ".py",
   "mimetype": "text/x-python",
   "name": "python",
   "nbconvert_exporter": "python",
   "pygments_lexer": "ipython3",
   "version": "3.9.16"
  }
 },
 "nbformat": 4,
 "nbformat_minor": 4
}
