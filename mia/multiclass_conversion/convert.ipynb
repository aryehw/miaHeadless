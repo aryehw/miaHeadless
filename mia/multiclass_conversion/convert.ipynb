{
 "cells": [
  {
   "cell_type": "code",
   "execution_count": 3,
   "metadata": {},
   "outputs": [
    {
     "name": "stdout",
     "output_type": "stream",
     "text": [
      "The autoreload extension is already loaded. To reload it, use:\n",
      "  %reload_ext autoreload\n"
     ]
    }
   ],
   "source": [
    "%load_ext autoreload\n",
    "%autoreload 2"
   ]
  },
  {
   "cell_type": "code",
   "execution_count": 4,
   "metadata": {},
   "outputs": [],
   "source": [
    "import glob\n",
    "import Contour\n",
    "import cv2\n",
    "import numpy as np\n"
   ]
  },
  {
   "cell_type": "code",
   "execution_count": 9,
   "metadata": {
    "scrolled": true
   },
   "outputs": [
    {
     "name": "stdout",
     "output_type": "stream",
     "text": [
      "35\n",
      "/media/amw/TOSHIBA EXT/alerding/Harvest 1 Orange 9 Aug 17.r/vertical/Segmentation_labels/OR5.302.4.npz\n",
      "/media/amw/TOSHIBA EXT/alerding/Harvest 1 Orange 9 Aug 17.r/vertical/Segmentation_labels/OR5.304.1.npz\n",
      "/media/amw/TOSHIBA EXT/alerding/Harvest 1 Orange 9 Aug 17.r/vertical/Segmentation_labels/OR5.304.2.npz\n",
      "/media/amw/TOSHIBA EXT/alerding/Harvest 1 Orange 9 Aug 17.r/vertical/Segmentation_labels/OR5.304.4.b.npz\n",
      "/media/amw/TOSHIBA EXT/alerding/Harvest 1 Orange 9 Aug 17.r/vertical/Segmentation_labels/OR5.304.4.npz\n",
      "/media/amw/TOSHIBA EXT/alerding/Harvest 1 Orange 9 Aug 17.r/vertical/Segmentation_labels/OR5.307.1.npz\n",
      "/media/amw/TOSHIBA EXT/alerding/Harvest 1 Orange 9 Aug 17.r/vertical/Segmentation_labels/OR5.307.2.npz\n",
      "/media/amw/TOSHIBA EXT/alerding/Harvest 1 Orange 9 Aug 17.r/vertical/Segmentation_labels/OR5.307.3.npz\n",
      "/media/amw/TOSHIBA EXT/alerding/Harvest 1 Orange 9 Aug 17.r/vertical/Segmentation_labels/OR5.307.4.npz\n",
      "/media/amw/TOSHIBA EXT/alerding/Harvest 1 Orange 9 Aug 17.r/vertical/Segmentation_labels/OR5.203.4.npz\n",
      "/media/amw/TOSHIBA EXT/alerding/Harvest 1 Orange 9 Aug 17.r/vertical/Segmentation_labels/OR5.206.1.npz\n",
      "/media/amw/TOSHIBA EXT/alerding/Harvest 1 Orange 9 Aug 17.r/vertical/Segmentation_labels/OR5.206.2.npz\n",
      "/media/amw/TOSHIBA EXT/alerding/Harvest 1 Orange 9 Aug 17.r/vertical/Segmentation_labels/OR5.206.3.npz\n",
      "/media/amw/TOSHIBA EXT/alerding/Harvest 1 Orange 9 Aug 17.r/vertical/Segmentation_labels/OR5.206.4.npz\n",
      "/media/amw/TOSHIBA EXT/alerding/Harvest 1 Orange 9 Aug 17.r/vertical/Segmentation_labels/OR5.302.1.npz\n",
      "/media/amw/TOSHIBA EXT/alerding/Harvest 1 Orange 9 Aug 17.r/vertical/Segmentation_labels/OR5.302.2.npz\n",
      "/media/amw/TOSHIBA EXT/alerding/Harvest 1 Orange 9 Aug 17.r/vertical/Segmentation_labels/OR5.302.3.npz\n",
      "/media/amw/TOSHIBA EXT/alerding/Harvest 1 Orange 9 Aug 17.r/vertical/Segmentation_labels/OR5.106.1.npz\n",
      "/media/amw/TOSHIBA EXT/alerding/Harvest 1 Orange 9 Aug 17.r/vertical/Segmentation_labels/OR5.106.2.b.npz\n",
      "/media/amw/TOSHIBA EXT/alerding/Harvest 1 Orange 9 Aug 17.r/vertical/Segmentation_labels/OR5.106.2.c.npz\n",
      "/media/amw/TOSHIBA EXT/alerding/Harvest 1 Orange 9 Aug 17.r/vertical/Segmentation_labels/OR5.106.2.npz\n",
      "/media/amw/TOSHIBA EXT/alerding/Harvest 1 Orange 9 Aug 17.r/vertical/Segmentation_labels/OR5.106.3.npz\n",
      "/media/amw/TOSHIBA EXT/alerding/Harvest 1 Orange 9 Aug 17.r/vertical/Segmentation_labels/OR5.106.4.npz\n",
      "/media/amw/TOSHIBA EXT/alerding/Harvest 1 Orange 9 Aug 17.r/vertical/Segmentation_labels/OR5.107.1.npz\n",
      "/media/amw/TOSHIBA EXT/alerding/Harvest 1 Orange 9 Aug 17.r/vertical/Segmentation_labels/OR5.107.2.npz\n",
      "/media/amw/TOSHIBA EXT/alerding/Harvest 1 Orange 9 Aug 17.r/vertical/Segmentation_labels/OR5.107.3.npz\n",
      "/media/amw/TOSHIBA EXT/alerding/Harvest 1 Orange 9 Aug 17.r/vertical/Segmentation_labels/OR5.107.4.npz\n",
      "/media/amw/TOSHIBA EXT/alerding/Harvest 1 Orange 9 Aug 17.r/vertical/Segmentation_labels/OR5.108.1.npz\n",
      "/media/amw/TOSHIBA EXT/alerding/Harvest 1 Orange 9 Aug 17.r/vertical/Segmentation_labels/OR5.108.2.npz\n",
      "/media/amw/TOSHIBA EXT/alerding/Harvest 1 Orange 9 Aug 17.r/vertical/Segmentation_labels/OR5.108.3.b.npz\n",
      "/media/amw/TOSHIBA EXT/alerding/Harvest 1 Orange 9 Aug 17.r/vertical/Segmentation_labels/OR5.108.3.npz\n",
      "/media/amw/TOSHIBA EXT/alerding/Harvest 1 Orange 9 Aug 17.r/vertical/Segmentation_labels/OR5.108.4.npz\n",
      "/media/amw/TOSHIBA EXT/alerding/Harvest 1 Orange 9 Aug 17.r/vertical/Segmentation_labels/OR5.203.1.npz\n",
      "/media/amw/TOSHIBA EXT/alerding/Harvest 1 Orange 9 Aug 17.r/vertical/Segmentation_labels/OR5.203.2.npz\n",
      "/media/amw/TOSHIBA EXT/alerding/Harvest 1 Orange 9 Aug 17.r/vertical/Segmentation_labels/OR5.203.3.npz\n"
     ]
    }
   ],
   "source": [
    "# folder with input masks\n",
    "folder = '/media/amw/TOSHIBA EXT/alerding/Harvest 1 Orange 9 Aug 17.r/vertical/Segmentation_labels/'\n",
    "files = glob.glob(folder + '*.tif')\n",
    "\n",
    "print(len(files))\n",
    "\n",
    "for f in files:\n",
    "    image = cv2.imread(f, cv2.IMREAD_UNCHANGED)\n",
    "    cnt = Contour.extractContoursFromLabel(image)\n",
    "\n",
    "    label = np.zeros(image.shape, dtype=np.uint8)\n",
    "    label = Contour.drawContoursToLabel(label,cnt) \n",
    "    cv2.imwrite('drawn.tif',label)\n",
    "\n",
    "    # here you should make sure that the label of an image has the same name as the image (plus .npz extension)\n",
    "    f_out = f.replace('tif', 'npz')\n",
    "    print(f_out)\n",
    "    \n",
    "    Contour.saveContours(cnt,f_out)\n",
    "   "
   ]
  },
  {
   "cell_type": "code",
   "execution_count": null,
   "metadata": {},
   "outputs": [],
   "source": []
  },
  {
   "cell_type": "code",
   "execution_count": null,
   "metadata": {},
   "outputs": [],
   "source": []
  },
  {
   "cell_type": "code",
   "execution_count": null,
   "metadata": {},
   "outputs": [],
   "source": []
  },
  {
   "cell_type": "code",
   "execution_count": null,
   "metadata": {},
   "outputs": [],
   "source": []
  }
 ],
 "metadata": {
  "kernelspec": {
   "display_name": "Python 3 (ipykernel)",
   "language": "python",
   "name": "python3"
  },
  "language_info": {
   "codemirror_mode": {
    "name": "ipython",
    "version": 3
   },
   "file_extension": ".py",
   "mimetype": "text/x-python",
   "name": "python",
   "nbconvert_exporter": "python",
   "pygments_lexer": "ipython3",
   "version": "3.7.12"
  }
 },
 "nbformat": 4,
 "nbformat_minor": 4
}
